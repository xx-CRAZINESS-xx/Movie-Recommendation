{
 "cells": [
  {
   "cell_type": "code",
   "execution_count": 1,
   "id": "96bdb58f",
   "metadata": {},
   "outputs": [],
   "source": [
    "# import dependencies\n",
    "\n",
    "import pandas as pd\n",
    "import warnings\n",
    "from sklearn.feature_extraction.text import TfidfVectorizer\n",
    "from sklearn.metrics.pairwise import cosine_similarity\n",
    "from nltk.tokenize import word_tokenize\n",
    "from nltk.stem import WordNetLemmatizer\n",
    "from nltk.corpus import stopwords\n",
    "from sklearn.decomposition import TruncatedSVD\n",
    "import regex\n",
    "import joblib\n",
    "import unidecode\n",
    "warnings.filterwarnings('ignore')\n",
    "pd.set_option('display.max_columns', None)"
   ]
  },
  {
   "cell_type": "code",
   "execution_count": 2,
   "id": "960405ce",
   "metadata": {},
   "outputs": [
    {
     "data": {
      "text/html": [
       "<div>\n",
       "<style scoped>\n",
       "    .dataframe tbody tr th:only-of-type {\n",
       "        vertical-align: middle;\n",
       "    }\n",
       "\n",
       "    .dataframe tbody tr th {\n",
       "        vertical-align: top;\n",
       "    }\n",
       "\n",
       "    .dataframe thead th {\n",
       "        text-align: right;\n",
       "    }\n",
       "</style>\n",
       "<table border=\"1\" class=\"dataframe\">\n",
       "  <thead>\n",
       "    <tr style=\"text-align: right;\">\n",
       "      <th></th>\n",
       "      <th>id</th>\n",
       "      <th>title</th>\n",
       "      <th>genre</th>\n",
       "      <th>director</th>\n",
       "      <th>stars</th>\n",
       "      <th>overview</th>\n",
       "      <th>rating</th>\n",
       "      <th>votes</th>\n",
       "    </tr>\n",
       "  </thead>\n",
       "  <tbody>\n",
       "    <tr>\n",
       "      <th>0</th>\n",
       "      <td>tt0468569</td>\n",
       "      <td>The Dark Knight</td>\n",
       "      <td>Action, Crime, Drama</td>\n",
       "      <td>Christopher Nolan</td>\n",
       "      <td>Christian Bale, Heath Ledger, Aaron Eckhart</td>\n",
       "      <td>When the menace known as the Joker wreaks havo...</td>\n",
       "      <td>9.0</td>\n",
       "      <td>2465320</td>\n",
       "    </tr>\n",
       "    <tr>\n",
       "      <th>1</th>\n",
       "      <td>tt1375666</td>\n",
       "      <td>Inception</td>\n",
       "      <td>Action, Adventure, Sci-Fi</td>\n",
       "      <td>Christopher Nolan</td>\n",
       "      <td>Leonardo DiCaprio, Joseph Gordon-Levitt, Ellio...</td>\n",
       "      <td>A thief who steals corporate secrets through t...</td>\n",
       "      <td>8.8</td>\n",
       "      <td>2210913</td>\n",
       "    </tr>\n",
       "    <tr>\n",
       "      <th>2</th>\n",
       "      <td>tt0120737</td>\n",
       "      <td>The Lord of the Rings: The Fellowship of the Ring</td>\n",
       "      <td>Action, Adventure, Drama</td>\n",
       "      <td>Peter Jackson</td>\n",
       "      <td>Elijah Wood, Ian McKellen, Orlando Bloom</td>\n",
       "      <td>A meek Hobbit from the Shire and eight compani...</td>\n",
       "      <td>8.8</td>\n",
       "      <td>1757730</td>\n",
       "    </tr>\n",
       "    <tr>\n",
       "      <th>3</th>\n",
       "      <td>tt0167260</td>\n",
       "      <td>The Lord of the Rings: The Return of the King</td>\n",
       "      <td>Action, Adventure, Drama</td>\n",
       "      <td>Peter Jackson</td>\n",
       "      <td>Elijah Wood, Viggo Mortensen, Ian McKellen</td>\n",
       "      <td>Gandalf and Aragorn lead the World of Men agai...</td>\n",
       "      <td>8.9</td>\n",
       "      <td>1736701</td>\n",
       "    </tr>\n",
       "    <tr>\n",
       "      <th>4</th>\n",
       "      <td>tt0816692</td>\n",
       "      <td>Interstellar</td>\n",
       "      <td>Adventure, Drama, Sci-Fi</td>\n",
       "      <td>Christopher Nolan</td>\n",
       "      <td>Matthew McConaughey, Anne Hathaway, Jessica Ch...</td>\n",
       "      <td>A team of explorers travel through a wormhole ...</td>\n",
       "      <td>8.6</td>\n",
       "      <td>1661792</td>\n",
       "    </tr>\n",
       "  </tbody>\n",
       "</table>\n",
       "</div>"
      ],
      "text/plain": [
       "          id                                              title  \\\n",
       "0  tt0468569                                    The Dark Knight   \n",
       "1  tt1375666                                          Inception   \n",
       "2  tt0120737  The Lord of the Rings: The Fellowship of the Ring   \n",
       "3  tt0167260      The Lord of the Rings: The Return of the King   \n",
       "4  tt0816692                                       Interstellar   \n",
       "\n",
       "                       genre           director  \\\n",
       "0       Action, Crime, Drama  Christopher Nolan   \n",
       "1  Action, Adventure, Sci-Fi  Christopher Nolan   \n",
       "2   Action, Adventure, Drama      Peter Jackson   \n",
       "3   Action, Adventure, Drama      Peter Jackson   \n",
       "4   Adventure, Drama, Sci-Fi  Christopher Nolan   \n",
       "\n",
       "                                               stars  \\\n",
       "0        Christian Bale, Heath Ledger, Aaron Eckhart   \n",
       "1  Leonardo DiCaprio, Joseph Gordon-Levitt, Ellio...   \n",
       "2           Elijah Wood, Ian McKellen, Orlando Bloom   \n",
       "3         Elijah Wood, Viggo Mortensen, Ian McKellen   \n",
       "4  Matthew McConaughey, Anne Hathaway, Jessica Ch...   \n",
       "\n",
       "                                            overview  rating    votes  \n",
       "0  When the menace known as the Joker wreaks havo...     9.0  2465320  \n",
       "1  A thief who steals corporate secrets through t...     8.8  2210913  \n",
       "2  A meek Hobbit from the Shire and eight compani...     8.8  1757730  \n",
       "3  Gandalf and Aragorn lead the World of Men agai...     8.9  1736701  \n",
       "4  A team of explorers travel through a wormhole ...     8.6  1661792  "
      ]
     },
     "execution_count": 2,
     "metadata": {},
     "output_type": "execute_result"
    }
   ],
   "source": [
    "# read data\n",
    "\n",
    "df = pd.read_csv('2000-2021.csv')\n",
    "df.head()"
   ]
  },
  {
   "cell_type": "code",
   "execution_count": 3,
   "id": "f432087e",
   "metadata": {},
   "outputs": [],
   "source": [
    "# replacing accents\n",
    "\n",
    "df['title']=df['title'].apply(lambda x: unidecode.unidecode(x))\n",
    "df['genre']=df['genre'].apply(lambda x: unidecode.unidecode(x))\n",
    "df['director']=df['director'].apply(lambda x: unidecode.unidecode(x))\n",
    "df['stars']=df['stars'].apply(lambda x: unidecode.unidecode(x))\n",
    "df['director']=df['director'].apply(lambda x: unidecode.unidecode(x))\n",
    "df['overview']=df['overview'].apply(lambda x: unidecode.unidecode(x))"
   ]
  },
  {
   "cell_type": "code",
   "execution_count": 4,
   "id": "83c0b851",
   "metadata": {},
   "outputs": [],
   "source": [
    "# removing unwanted characters\n",
    "\n",
    "def clean(x):\n",
    "    x = x.lower()\n",
    "    x = regex.sub(r'<a class=[\\'\"]?([^\\'\" >]+)', '', x)\n",
    "    x = regex.sub(r'href=[\\'\"]?([^\\'\" >]+)', '', x)\n",
    "    x = regex.sub(r'<a href=[\\'\"]?([^\\'\" >]+)', '', x)\n",
    "    x = x.replace('prev-page  Previous', '')\n",
    "    x = x.replace('\"', '')\n",
    "    x = x.replace('</a>', '')\n",
    "    x = x.replace('>', '')\n",
    "    x = x.replace(\"[^a-zA-Z]\", \" \")\n",
    "    x = x.replace(\"\\s\\s+\", \" \")\n",
    "    x = x.replace('.', '')\n",
    "    x = x.replace(',', '')\n",
    "\n",
    "    return x\n",
    "\n",
    "df['genre'] = df['genre'].apply(clean)\n",
    "df['director'] = df['director'].apply(clean)\n",
    "df['overview'] = df['overview'].apply(clean)\n",
    "df['stars'] = df['stars'].apply(clean)"
   ]
  },
  {
   "cell_type": "code",
   "execution_count": 5,
   "id": "f6e6b13e",
   "metadata": {},
   "outputs": [],
   "source": [
    "# combining different columns\n",
    "\n",
    "def join(data):\n",
    "    combine = data['title'] + \" \" + data['director'] + \" \" + data[\n",
    "        'genre'] + \" \" + data['stars'] + \" \" + data['overview']\n",
    "\n",
    "    return combine\n",
    "\n",
    "\n",
    "df['combined'] = join(df)\n",
    "df['combined'] = df['combined'].apply(clean)"
   ]
  },
  {
   "cell_type": "code",
   "execution_count": 6,
   "id": "b67c57c1",
   "metadata": {},
   "outputs": [],
   "source": [
    "# lemmatizing the combined column\n",
    "\n",
    "lem = WordNetLemmatizer()\n",
    "corpus = []\n",
    "for i in df['combined']:\n",
    "    i = i.split()\n",
    "    i = [\n",
    "        lem.lemmatize(word) for word in i\n",
    "        if not word in set(stopwords.words('english'))\n",
    "    ]\n",
    "    i = ' '.join(i)\n",
    "    corpus.append(i)\n",
    "\n",
    "df['combined'] = corpus"
   ]
  },
  {
   "cell_type": "code",
   "execution_count": 7,
   "id": "7ffab333",
   "metadata": {},
   "outputs": [
    {
     "data": {
      "text/html": [
       "<div>\n",
       "<style scoped>\n",
       "    .dataframe tbody tr th:only-of-type {\n",
       "        vertical-align: middle;\n",
       "    }\n",
       "\n",
       "    .dataframe tbody tr th {\n",
       "        vertical-align: top;\n",
       "    }\n",
       "\n",
       "    .dataframe thead th {\n",
       "        text-align: right;\n",
       "    }\n",
       "</style>\n",
       "<table border=\"1\" class=\"dataframe\">\n",
       "  <thead>\n",
       "    <tr style=\"text-align: right;\">\n",
       "      <th></th>\n",
       "      <th>id</th>\n",
       "      <th>title</th>\n",
       "      <th>genre</th>\n",
       "      <th>director</th>\n",
       "      <th>stars</th>\n",
       "      <th>overview</th>\n",
       "      <th>rating</th>\n",
       "      <th>votes</th>\n",
       "      <th>combined</th>\n",
       "    </tr>\n",
       "  </thead>\n",
       "  <tbody>\n",
       "    <tr>\n",
       "      <th>0</th>\n",
       "      <td>tt0468569</td>\n",
       "      <td>The Dark Knight</td>\n",
       "      <td>action crime drama</td>\n",
       "      <td>christopher nolan</td>\n",
       "      <td>christian bale heath ledger aaron eckhart</td>\n",
       "      <td>when the menace known as the joker wreaks havo...</td>\n",
       "      <td>9.0</td>\n",
       "      <td>2465320</td>\n",
       "      <td>dark knight christopher nolan action crime dra...</td>\n",
       "    </tr>\n",
       "    <tr>\n",
       "      <th>1</th>\n",
       "      <td>tt1375666</td>\n",
       "      <td>Inception</td>\n",
       "      <td>action adventure sci-fi</td>\n",
       "      <td>christopher nolan</td>\n",
       "      <td>leonardo dicaprio joseph gordon-levitt elliot ...</td>\n",
       "      <td>a thief who steals corporate secrets through t...</td>\n",
       "      <td>8.8</td>\n",
       "      <td>2210913</td>\n",
       "      <td>inception christopher nolan action adventure s...</td>\n",
       "    </tr>\n",
       "    <tr>\n",
       "      <th>2</th>\n",
       "      <td>tt0120737</td>\n",
       "      <td>The Lord of the Rings: The Fellowship of the Ring</td>\n",
       "      <td>action adventure drama</td>\n",
       "      <td>peter jackson</td>\n",
       "      <td>elijah wood ian mckellen orlando bloom</td>\n",
       "      <td>a meek hobbit from the shire and eight compani...</td>\n",
       "      <td>8.8</td>\n",
       "      <td>1757730</td>\n",
       "      <td>lord rings: fellowship ring peter jackson acti...</td>\n",
       "    </tr>\n",
       "    <tr>\n",
       "      <th>3</th>\n",
       "      <td>tt0167260</td>\n",
       "      <td>The Lord of the Rings: The Return of the King</td>\n",
       "      <td>action adventure drama</td>\n",
       "      <td>peter jackson</td>\n",
       "      <td>elijah wood viggo mortensen ian mckellen</td>\n",
       "      <td>gandalf and aragorn lead the world of men agai...</td>\n",
       "      <td>8.9</td>\n",
       "      <td>1736701</td>\n",
       "      <td>lord rings: return king peter jackson action a...</td>\n",
       "    </tr>\n",
       "    <tr>\n",
       "      <th>4</th>\n",
       "      <td>tt0816692</td>\n",
       "      <td>Interstellar</td>\n",
       "      <td>adventure drama sci-fi</td>\n",
       "      <td>christopher nolan</td>\n",
       "      <td>matthew mcconaughey anne hathaway jessica chas...</td>\n",
       "      <td>a team of explorers travel through a wormhole ...</td>\n",
       "      <td>8.6</td>\n",
       "      <td>1661792</td>\n",
       "      <td>interstellar christopher nolan adventure drama...</td>\n",
       "    </tr>\n",
       "  </tbody>\n",
       "</table>\n",
       "</div>"
      ],
      "text/plain": [
       "          id                                              title  \\\n",
       "0  tt0468569                                    The Dark Knight   \n",
       "1  tt1375666                                          Inception   \n",
       "2  tt0120737  The Lord of the Rings: The Fellowship of the Ring   \n",
       "3  tt0167260      The Lord of the Rings: The Return of the King   \n",
       "4  tt0816692                                       Interstellar   \n",
       "\n",
       "                     genre           director  \\\n",
       "0       action crime drama  christopher nolan   \n",
       "1  action adventure sci-fi  christopher nolan   \n",
       "2   action adventure drama      peter jackson   \n",
       "3   action adventure drama      peter jackson   \n",
       "4   adventure drama sci-fi  christopher nolan   \n",
       "\n",
       "                                               stars  \\\n",
       "0          christian bale heath ledger aaron eckhart   \n",
       "1  leonardo dicaprio joseph gordon-levitt elliot ...   \n",
       "2             elijah wood ian mckellen orlando bloom   \n",
       "3           elijah wood viggo mortensen ian mckellen   \n",
       "4  matthew mcconaughey anne hathaway jessica chas...   \n",
       "\n",
       "                                            overview  rating    votes  \\\n",
       "0  when the menace known as the joker wreaks havo...     9.0  2465320   \n",
       "1  a thief who steals corporate secrets through t...     8.8  2210913   \n",
       "2  a meek hobbit from the shire and eight compani...     8.8  1757730   \n",
       "3  gandalf and aragorn lead the world of men agai...     8.9  1736701   \n",
       "4  a team of explorers travel through a wormhole ...     8.6  1661792   \n",
       "\n",
       "                                            combined  \n",
       "0  dark knight christopher nolan action crime dra...  \n",
       "1  inception christopher nolan action adventure s...  \n",
       "2  lord rings: fellowship ring peter jackson acti...  \n",
       "3  lord rings: return king peter jackson action a...  \n",
       "4  interstellar christopher nolan adventure drama...  "
      ]
     },
     "execution_count": 7,
     "metadata": {},
     "output_type": "execute_result"
    }
   ],
   "source": [
    "df.head()"
   ]
  },
  {
   "cell_type": "code",
   "execution_count": 9,
   "id": "669b5a57",
   "metadata": {},
   "outputs": [],
   "source": [
    "# tfidf vectorizer to convert text to vector\n",
    "\n",
    "tf = TfidfVectorizer(stop_words='english',\n",
    "                     tokenizer=word_tokenize,\n",
    "                     max_features=6000)\n",
    "vectors = tf.fit_transform(df['combined']).toarray()"
   ]
  },
  {
   "cell_type": "code",
   "execution_count": 10,
   "id": "683a39f8",
   "metadata": {},
   "outputs": [
    {
     "data": {
      "text/plain": [
       "(5998, 6000)"
      ]
     },
     "execution_count": 10,
     "metadata": {},
     "output_type": "execute_result"
    }
   ],
   "source": [
    "vectors.shape"
   ]
  },
  {
   "cell_type": "code",
   "execution_count": 11,
   "id": "f3b80666",
   "metadata": {},
   "outputs": [],
   "source": [
    "# svd to reduce dimension\n",
    "\n",
    "svd = TruncatedSVD(n_components=2500, random_state=2)\n",
    "vector_reduced = svd.fit_transform(vectors)"
   ]
  },
  {
   "cell_type": "code",
   "execution_count": 12,
   "id": "5e2428f2",
   "metadata": {},
   "outputs": [],
   "source": [
    "cos = cosine_similarity(vector_reduced)\n",
    "indices = pd.Series(df.index, index=df['title']).drop_duplicates()"
   ]
  },
  {
   "cell_type": "code",
   "execution_count": 13,
   "id": "dcec786b",
   "metadata": {},
   "outputs": [],
   "source": [
    "def get_recommendations(title, cos=cos):\n",
    "    idx = indices[title]\n",
    "    sim_scores = list(enumerate(cos[idx]))\n",
    "    sim_scores = sorted(sim_scores, key=lambda x: x[1], reverse=True)\n",
    "    sim_scores = sim_scores[1:6]\n",
    "    movie_indices = [i[0] for i in sim_scores]\n",
    "    return df['title'].iloc[movie_indices]"
   ]
  },
  {
   "cell_type": "code",
   "execution_count": 14,
   "id": "a6c123c7",
   "metadata": {},
   "outputs": [
    {
     "data": {
      "text/plain": [
       "123               Spider-Man 2\n",
       "152               Spider-Man 3\n",
       "119     The Amazing Spider-Man\n",
       "2095           Superhero Movie\n",
       "137     Spider-Man: Homecoming\n",
       "Name: title, dtype: object"
      ]
     },
     "execution_count": 14,
     "metadata": {},
     "output_type": "execute_result"
    }
   ],
   "source": [
    "get_recommendations('Spider-Man')"
   ]
  },
  {
   "cell_type": "code",
   "execution_count": 15,
   "id": "8fe150c2",
   "metadata": {},
   "outputs": [
    {
     "data": {
      "text/plain": [
       "['similarity.sav']"
      ]
     },
     "execution_count": 15,
     "metadata": {},
     "output_type": "execute_result"
    }
   ],
   "source": [
    "joblib.dump(df, 'movies_list.sav')\n",
    "joblib.dump(cos, 'similarity.sav', compress=3)"
   ]
  }
 ],
 "metadata": {
  "kernelspec": {
   "display_name": "Python 3",
   "language": "python",
   "name": "python3"
  },
  "language_info": {
   "codemirror_mode": {
    "name": "ipython",
    "version": 3
   },
   "file_extension": ".py",
   "mimetype": "text/x-python",
   "name": "python",
   "nbconvert_exporter": "python",
   "pygments_lexer": "ipython3",
   "version": "3.8.8"
  },
  "notify_time": "5"
 },
 "nbformat": 4,
 "nbformat_minor": 5
}
